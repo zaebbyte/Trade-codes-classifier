{
 "cells": [
  {
   "cell_type": "code",
   "execution_count": null,
   "id": "1271f5e8",
   "metadata": {},
   "outputs": [],
   "source": [
    "import pandas as pd\n",
    "from collections import defaultdict\n",
    "import json\n",
    "\n",
    "df = pd.read_csv(\"../data/clean/clean_HS_Tree.csv\")\n",
    "\n",
    "hs2_to_hs4 = defaultdict(set)\n",
    "hs4_to_hs6 = defaultdict(set)\n",
    "\n",
    "for _, row in df.iterrows():\n",
    "    hs2 = str(row['HS2']).zfill(2)\n",
    "    hs4 = str(row['HS4']).zfill(4)\n",
    "    hs6 = str(row['HS6']).zfill(6)\n",
    "\n",
    "    hs2_to_hs4[hs2].add(hs4)\n",
    "    hs4_to_hs6[hs4].add(hs6)\n",
    "\n",
    "with open(\"../data/hs_mapping.json\", \"w\") as f:\n",
    "    json.dump({\n",
    "        \"hs2_to_hs4\": {k: list(v) for k, v in hs2_to_hs4.items()},\n",
    "        \"hs4_to_hs6\": {k: list(v) for k, v in hs4_to_hs6.items()}\n",
    "    }, f, indent=2)\n"
   ]
  }
 ],
 "metadata": {
  "language_info": {
   "name": "python"
  }
 },
 "nbformat": 4,
 "nbformat_minor": 5
}
