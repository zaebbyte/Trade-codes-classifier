{
 "cells": [
  {
   "cell_type": "code",
   "execution_count": 1,
   "id": "d42deec8",
   "metadata": {},
   "outputs": [
    {
     "name": "stdout",
     "output_type": "stream",
     "text": [
      "Requirement already satisfied: sentence-transformers in c:\\users\\varsha\\anaconda3\\lib\\site-packages (5.0.0)\n",
      "Requirement already satisfied: transformers<5.0.0,>=4.41.0 in c:\\users\\varsha\\anaconda3\\lib\\site-packages (from sentence-transformers) (4.53.0)\n",
      "Requirement already satisfied: tqdm in c:\\users\\varsha\\anaconda3\\lib\\site-packages (from sentence-transformers) (4.65.0)\n",
      "Requirement already satisfied: torch>=1.11.0 in c:\\users\\varsha\\anaconda3\\lib\\site-packages (from sentence-transformers) (2.2.2)\n",
      "Requirement already satisfied: scikit-learn in c:\\users\\varsha\\anaconda3\\lib\\site-packages (from sentence-transformers) (1.2.2)\n",
      "Requirement already satisfied: scipy in c:\\users\\varsha\\anaconda3\\lib\\site-packages (from sentence-transformers) (1.11.4)\n",
      "Requirement already satisfied: huggingface-hub>=0.20.0 in c:\\users\\varsha\\anaconda3\\lib\\site-packages (from sentence-transformers) (0.33.2)\n",
      "Requirement already satisfied: Pillow in c:\\users\\varsha\\anaconda3\\lib\\site-packages (from sentence-transformers) (10.2.0)\n",
      "Requirement already satisfied: typing_extensions>=4.5.0 in c:\\users\\varsha\\anaconda3\\lib\\site-packages (from sentence-transformers) (4.14.1)\n",
      "Requirement already satisfied: filelock in c:\\users\\varsha\\anaconda3\\lib\\site-packages (from huggingface-hub>=0.20.0->sentence-transformers) (3.13.1)\n",
      "Requirement already satisfied: fsspec>=2023.5.0 in c:\\users\\varsha\\anaconda3\\lib\\site-packages (from huggingface-hub>=0.20.0->sentence-transformers) (2023.10.0)\n",
      "Requirement already satisfied: packaging>=20.9 in c:\\users\\varsha\\anaconda3\\lib\\site-packages (from huggingface-hub>=0.20.0->sentence-transformers) (23.2)\n",
      "Requirement already satisfied: pyyaml>=5.1 in c:\\users\\varsha\\anaconda3\\lib\\site-packages (from huggingface-hub>=0.20.0->sentence-transformers) (6.0.1)\n",
      "Requirement already satisfied: requests in c:\\users\\varsha\\anaconda3\\lib\\site-packages (from huggingface-hub>=0.20.0->sentence-transformers) (2.31.0)\n",
      "Requirement already satisfied: sympy in c:\\users\\varsha\\anaconda3\\lib\\site-packages (from torch>=1.11.0->sentence-transformers) (1.12)\n",
      "Requirement already satisfied: networkx in c:\\users\\varsha\\anaconda3\\lib\\site-packages (from torch>=1.11.0->sentence-transformers) (3.1)\n",
      "Requirement already satisfied: jinja2 in c:\\users\\varsha\\anaconda3\\lib\\site-packages (from torch>=1.11.0->sentence-transformers) (3.1.3)\n",
      "Requirement already satisfied: colorama in c:\\users\\varsha\\anaconda3\\lib\\site-packages (from tqdm->sentence-transformers) (0.4.6)\n",
      "Requirement already satisfied: numpy>=1.17 in c:\\users\\varsha\\anaconda3\\lib\\site-packages (from transformers<5.0.0,>=4.41.0->sentence-transformers) (2.3.1)\n",
      "Requirement already satisfied: regex!=2019.12.17 in c:\\users\\varsha\\anaconda3\\lib\\site-packages (from transformers<5.0.0,>=4.41.0->sentence-transformers) (2023.10.3)\n",
      "Requirement already satisfied: tokenizers<0.22,>=0.21 in c:\\users\\varsha\\anaconda3\\lib\\site-packages (from transformers<5.0.0,>=4.41.0->sentence-transformers) (0.21.2)\n",
      "Requirement already satisfied: safetensors>=0.4.3 in c:\\users\\varsha\\anaconda3\\lib\\site-packages (from transformers<5.0.0,>=4.41.0->sentence-transformers) (0.5.3)\n",
      "Requirement already satisfied: joblib>=1.1.1 in c:\\users\\varsha\\anaconda3\\lib\\site-packages (from scikit-learn->sentence-transformers) (1.2.0)\n",
      "Requirement already satisfied: threadpoolctl>=2.0.0 in c:\\users\\varsha\\anaconda3\\lib\\site-packages (from scikit-learn->sentence-transformers) (2.2.0)\n",
      "Collecting numpy>=1.17 (from transformers<5.0.0,>=4.41.0->sentence-transformers)\n",
      "  Using cached numpy-1.26.4-cp311-cp311-win_amd64.whl.metadata (61 kB)\n",
      "Requirement already satisfied: MarkupSafe>=2.0 in c:\\users\\varsha\\anaconda3\\lib\\site-packages (from jinja2->torch>=1.11.0->sentence-transformers) (2.1.3)\n",
      "Requirement already satisfied: charset-normalizer<4,>=2 in c:\\users\\varsha\\anaconda3\\lib\\site-packages (from requests->huggingface-hub>=0.20.0->sentence-transformers) (2.0.4)\n",
      "Requirement already satisfied: idna<4,>=2.5 in c:\\users\\varsha\\anaconda3\\lib\\site-packages (from requests->huggingface-hub>=0.20.0->sentence-transformers) (3.4)\n",
      "Requirement already satisfied: urllib3<3,>=1.21.1 in c:\\users\\varsha\\anaconda3\\lib\\site-packages (from requests->huggingface-hub>=0.20.0->sentence-transformers) (2.0.7)\n",
      "Requirement already satisfied: certifi>=2017.4.17 in c:\\users\\varsha\\anaconda3\\lib\\site-packages (from requests->huggingface-hub>=0.20.0->sentence-transformers) (2024.2.2)\n",
      "Requirement already satisfied: mpmath>=0.19 in c:\\users\\varsha\\anaconda3\\lib\\site-packages (from sympy->torch>=1.11.0->sentence-transformers) (1.3.0)\n",
      "Downloading numpy-1.26.4-cp311-cp311-win_amd64.whl (15.8 MB)\n",
      "   ---------------------------------------- 0.0/15.8 MB ? eta -:--:--\n",
      "   ---------------------------------------- 0.0/15.8 MB 682.7 kB/s eta 0:00:24\n",
      "   ---------------------------------------- 0.2/15.8 MB 2.2 MB/s eta 0:00:08\n",
      "   - -------------------------------------- 0.5/15.8 MB 4.6 MB/s eta 0:00:04\n",
      "   -- ------------------------------------- 0.9/15.8 MB 5.4 MB/s eta 0:00:03\n",
      "   --- ------------------------------------ 1.4/15.8 MB 6.4 MB/s eta 0:00:03\n",
      "   --- ------------------------------------ 1.5/15.8 MB 6.5 MB/s eta 0:00:03\n",
      "   --- ------------------------------------ 1.5/15.8 MB 6.5 MB/s eta 0:00:03\n",
      "   ---- ----------------------------------- 1.8/15.8 MB 5.0 MB/s eta 0:00:03\n",
      "   ---- ----------------------------------- 1.9/15.8 MB 4.6 MB/s eta 0:00:04\n",
      "   ----- ---------------------------------- 2.1/15.8 MB 4.7 MB/s eta 0:00:03\n",
      "   ----- ---------------------------------- 2.1/15.8 MB 4.7 MB/s eta 0:00:03\n",
      "   ----- ---------------------------------- 2.2/15.8 MB 4.3 MB/s eta 0:00:04\n",
      "   ------ --------------------------------- 2.4/15.8 MB 4.1 MB/s eta 0:00:04\n",
      "   ------ --------------------------------- 2.7/15.8 MB 4.4 MB/s eta 0:00:03\n",
      "   ------ --------------------------------- 2.7/15.8 MB 4.4 MB/s eta 0:00:03\n",
      "   ------ --------------------------------- 2.7/15.8 MB 4.4 MB/s eta 0:00:03\n",
      "   ------- -------------------------------- 2.9/15.8 MB 3.8 MB/s eta 0:00:04\n",
      "   ------- -------------------------------- 2.9/15.8 MB 3.5 MB/s eta 0:00:04\n",
      "   -------- ------------------------------- 3.3/15.8 MB 3.7 MB/s eta 0:00:04\n",
      "   -------- ------------------------------- 3.5/15.8 MB 3.8 MB/s eta 0:00:04\n",
      "   --------- ------------------------------ 3.8/15.8 MB 4.1 MB/s eta 0:00:03\n",
      "   --------- ------------------------------ 3.8/15.8 MB 4.1 MB/s eta 0:00:03\n",
      "   --------- ------------------------------ 3.8/15.8 MB 4.1 MB/s eta 0:00:03\n",
      "   --------- ------------------------------ 3.8/15.8 MB 4.1 MB/s eta 0:00:03\n",
      "   --------- ------------------------------ 3.8/15.8 MB 4.1 MB/s eta 0:00:03\n",
      "   ---------- ----------------------------- 4.1/15.8 MB 3.5 MB/s eta 0:00:04\n",
      "   ---------- ----------------------------- 4.1/15.8 MB 3.5 MB/s eta 0:00:04\n",
      "   ---------- ----------------------------- 4.1/15.8 MB 3.5 MB/s eta 0:00:04\n",
      "   ----------- ---------------------------- 4.4/15.8 MB 3.3 MB/s eta 0:00:04\n",
      "   ----------- ---------------------------- 4.4/15.8 MB 3.3 MB/s eta 0:00:04\n",
      "   ----------- ---------------------------- 4.7/15.8 MB 3.3 MB/s eta 0:00:04\n",
      "   ------------ --------------------------- 5.1/15.8 MB 3.5 MB/s eta 0:00:04\n",
      "   -------------- ------------------------- 5.6/15.8 MB 3.7 MB/s eta 0:00:03\n",
      "   -------------- ------------------------- 5.7/15.8 MB 3.7 MB/s eta 0:00:03\n",
      "   -------------- ------------------------- 5.9/15.8 MB 3.7 MB/s eta 0:00:03\n",
      "   -------------- ------------------------- 5.9/15.8 MB 3.7 MB/s eta 0:00:03\n",
      "   -------------- ------------------------- 5.9/15.8 MB 3.7 MB/s eta 0:00:03\n",
      "   --------------- ------------------------ 6.2/15.8 MB 3.5 MB/s eta 0:00:03\n",
      "   --------------- ------------------------ 6.3/15.8 MB 3.6 MB/s eta 0:00:03\n",
      "   ---------------- ----------------------- 6.6/15.8 MB 3.6 MB/s eta 0:00:03\n",
      "   ---------------- ----------------------- 6.6/15.8 MB 3.6 MB/s eta 0:00:03\n",
      "   ---------------- ----------------------- 6.6/15.8 MB 3.6 MB/s eta 0:00:03\n",
      "   ----------------- ---------------------- 6.9/15.8 MB 3.5 MB/s eta 0:00:03\n",
      "   ------------------ --------------------- 7.3/15.8 MB 3.6 MB/s eta 0:00:03\n",
      "   ------------------- -------------------- 7.6/15.8 MB 3.7 MB/s eta 0:00:03\n",
      "   -------------------- ------------------- 8.0/15.8 MB 3.8 MB/s eta 0:00:03\n",
      "   --------------------- ------------------ 8.3/15.8 MB 3.9 MB/s eta 0:00:02\n",
      "   --------------------- ------------------ 8.3/15.8 MB 3.9 MB/s eta 0:00:02\n",
      "   --------------------- ------------------ 8.3/15.8 MB 3.9 MB/s eta 0:00:02\n",
      "   --------------------- ------------------ 8.5/15.8 MB 3.7 MB/s eta 0:00:02\n",
      "   ---------------------- ----------------- 8.8/15.8 MB 3.7 MB/s eta 0:00:02\n",
      "   ---------------------- ----------------- 8.8/15.8 MB 3.7 MB/s eta 0:00:02\n",
      "   ---------------------- ----------------- 8.8/15.8 MB 3.7 MB/s eta 0:00:02\n",
      "   ----------------------- ---------------- 9.2/15.8 MB 3.7 MB/s eta 0:00:02\n",
      "   ----------------------- ---------------- 9.2/15.8 MB 3.7 MB/s eta 0:00:02\n",
      "   ------------------------ --------------- 9.8/15.8 MB 3.8 MB/s eta 0:00:02\n",
      "   ------------------------- -------------- 10.1/15.8 MB 3.9 MB/s eta 0:00:02\n",
      "   --------------------------- ------------ 10.7/15.8 MB 4.0 MB/s eta 0:00:02\n",
      "   --------------------------- ------------ 11.0/15.8 MB 4.0 MB/s eta 0:00:02\n",
      "   ---------------------------- ----------- 11.2/15.8 MB 4.0 MB/s eta 0:00:02\n",
      "   ---------------------------- ----------- 11.2/15.8 MB 4.0 MB/s eta 0:00:02\n",
      "   ---------------------------- ----------- 11.2/15.8 MB 4.0 MB/s eta 0:00:02\n",
      "   ----------------------------- ---------- 11.6/15.8 MB 3.8 MB/s eta 0:00:02\n",
      "   ----------------------------- ---------- 11.8/15.8 MB 4.0 MB/s eta 0:00:02\n",
      "   ------------------------------- -------- 12.3/15.8 MB 4.1 MB/s eta 0:00:01\n",
      "   ------------------------------- -------- 12.5/15.8 MB 4.1 MB/s eta 0:00:01\n",
      "   -------------------------------- ------- 12.7/15.8 MB 4.2 MB/s eta 0:00:01\n",
      "   --------------------------------- ------ 13.1/15.8 MB 4.3 MB/s eta 0:00:01\n",
      "   ---------------------------------- ----- 13.6/15.8 MB 4.5 MB/s eta 0:00:01\n",
      "   ----------------------------------- ---- 14.0/15.8 MB 4.5 MB/s eta 0:00:01\n",
      "   ------------------------------------ --- 14.3/15.8 MB 4.9 MB/s eta 0:00:01\n",
      "   ------------------------------------- -- 14.7/15.8 MB 5.3 MB/s eta 0:00:01\n",
      "   ------------------------------------- -- 14.7/15.8 MB 5.3 MB/s eta 0:00:01\n",
      "   ------------------------------------- -- 14.7/15.8 MB 5.3 MB/s eta 0:00:01\n",
      "   ------------------------------------- -- 14.8/15.8 MB 5.0 MB/s eta 0:00:01\n",
      "   -------------------------------------- - 15.2/15.8 MB 5.0 MB/s eta 0:00:01\n",
      "   ---------------------------------------  15.6/15.8 MB 5.0 MB/s eta 0:00:01\n",
      "   ---------------------------------------  15.6/15.8 MB 5.0 MB/s eta 0:00:01\n",
      "   ---------------------------------------  15.6/15.8 MB 5.0 MB/s eta 0:00:01\n",
      "   ---------------------------------------  15.6/15.8 MB 5.0 MB/s eta 0:00:01\n",
      "   ---------------------------------------  15.8/15.8 MB 4.7 MB/s eta 0:00:01\n",
      "   ---------------------------------------- 15.8/15.8 MB 4.5 MB/s eta 0:00:00\n",
      "Installing collected packages: numpy\n",
      "  Attempting uninstall: numpy\n",
      "    Found existing installation: numpy 2.3.1\n",
      "    Uninstalling numpy-2.3.1:\n",
      "      Successfully uninstalled numpy-2.3.1\n",
      "Successfully installed numpy-1.26.4\n",
      "Note: you may need to restart the kernel to use updated packages.\n"
     ]
    },
    {
     "name": "stderr",
     "output_type": "stream",
     "text": [
      "ERROR: pip's dependency resolver does not currently take into account all the packages that are installed. This behaviour is the source of the following dependency conflicts.\n",
      "gensim 4.3.0 requires FuzzyTM>=0.4.0, which is not installed.\n",
      "thinc 8.3.6 requires numpy<3.0.0,>=2.0.0, but you have numpy 1.26.4 which is incompatible.\n"
     ]
    }
   ],
   "source": [
    "%pip install -U sentence-transformers"
   ]
  },
  {
   "cell_type": "code",
   "execution_count": 7,
   "id": "1d5ea40c",
   "metadata": {},
   "outputs": [],
   "source": [
    "from sentence_transformers import SentenceTransformer\n",
    "import faiss\n",
    "import numpy as np\n",
    "import pandas as pd"
   ]
  },
  {
   "cell_type": "code",
   "execution_count": null,
   "id": "7d4f746c",
   "metadata": {},
   "outputs": [
    {
     "ename": "FileNotFoundError",
     "evalue": "[Errno 2] No such file or directory: '../data/processed/hs_tree_embeddings.npy'",
     "output_type": "error",
     "traceback": [
      "\u001b[1;31m---------------------------------------------------------------------------\u001b[0m",
      "\u001b[1;31mFileNotFoundError\u001b[0m                         Traceback (most recent call last)",
      "Cell \u001b[1;32mIn[15], line 2\u001b[0m\n\u001b[0;32m      1\u001b[0m model \u001b[38;5;241m=\u001b[39m SentenceTransformer(\u001b[38;5;124m'\u001b[39m\u001b[38;5;124mall-MiniLM-L6-v2\u001b[39m\u001b[38;5;124m'\u001b[39m)\n\u001b[1;32m----> 2\u001b[0m embeddings \u001b[38;5;241m=\u001b[39m np\u001b[38;5;241m.\u001b[39mload(\u001b[38;5;124m\"\u001b[39m\u001b[38;5;124m../data/processed/hs_tree_embeddings.npy\u001b[39m\u001b[38;5;124m\"\u001b[39m)\n",
      "File \u001b[1;32mc:\\Users\\varsha\\anaconda3\\Lib\\site-packages\\numpy\\lib\\npyio.py:427\u001b[0m, in \u001b[0;36mload\u001b[1;34m(file, mmap_mode, allow_pickle, fix_imports, encoding, max_header_size)\u001b[0m\n\u001b[0;32m    425\u001b[0m     own_fid \u001b[38;5;241m=\u001b[39m \u001b[38;5;28;01mFalse\u001b[39;00m\n\u001b[0;32m    426\u001b[0m \u001b[38;5;28;01melse\u001b[39;00m:\n\u001b[1;32m--> 427\u001b[0m     fid \u001b[38;5;241m=\u001b[39m stack\u001b[38;5;241m.\u001b[39menter_context(\u001b[38;5;28mopen\u001b[39m(os_fspath(file), \u001b[38;5;124m\"\u001b[39m\u001b[38;5;124mrb\u001b[39m\u001b[38;5;124m\"\u001b[39m))\n\u001b[0;32m    428\u001b[0m     own_fid \u001b[38;5;241m=\u001b[39m \u001b[38;5;28;01mTrue\u001b[39;00m\n\u001b[0;32m    430\u001b[0m \u001b[38;5;66;03m# Code to distinguish from NumPy binary files and pickles.\u001b[39;00m\n",
      "\u001b[1;31mFileNotFoundError\u001b[0m: [Errno 2] No such file or directory: '../data/processed/hs_tree_embeddings.npy'"
     ]
    }
   ],
   "source": [
    "hs_tree = pd.read_csv(\"../data/hs_tree_cleaned.csv\")\n",
    "model = SentenceTransformer('all-MiniLM-L6-v2')\n",
    "embeddings = np.load(\"../data/processed/hs_tree_embeddings.npy\")"
   ]
  },
  {
   "cell_type": "code",
   "execution_count": 9,
   "id": "3c693ee3",
   "metadata": {},
   "outputs": [],
   "source": [
    "index = faiss.read_index(\"../models/faiss_index.index\")"
   ]
  },
  {
   "cell_type": "code",
   "execution_count": 14,
   "id": "9858b042",
   "metadata": {},
   "outputs": [
    {
     "ename": "NameError",
     "evalue": "name 'model' is not defined",
     "output_type": "error",
     "traceback": [
      "\u001b[1;31m---------------------------------------------------------------------------\u001b[0m",
      "\u001b[1;31mNameError\u001b[0m                                 Traceback (most recent call last)",
      "Cell \u001b[1;32mIn[14], line 2\u001b[0m\n\u001b[0;32m      1\u001b[0m query \u001b[38;5;241m=\u001b[39m \u001b[38;5;124m\"\u001b[39m\u001b[38;5;124mLED TV with 4K display\u001b[39m\u001b[38;5;124m\"\u001b[39m\n\u001b[1;32m----> 2\u001b[0m query_embedding \u001b[38;5;241m=\u001b[39m model\u001b[38;5;241m.\u001b[39mencode([query])\n",
      "\u001b[1;31mNameError\u001b[0m: name 'model' is not defined"
     ]
    }
   ],
   "source": [
    "query = \"LED TV with 4K display\"\n",
    "query_embedding = model.encode([query])"
   ]
  },
  {
   "cell_type": "code",
   "execution_count": 6,
   "id": "4f2f600f",
   "metadata": {},
   "outputs": [],
   "source": [
    "D, I = index.search(np.array(query_embedding).astype(\"float32\"), k=3)"
   ]
  },
  {
   "cell_type": "code",
   "execution_count": 8,
   "id": "e654f9cb",
   "metadata": {},
   "outputs": [
    {
     "name": "stdout",
     "output_type": "stream",
     "text": [
      "6939 6939\n"
     ]
    }
   ],
   "source": [
    "print(len(embeddings), len(hs_tree))\n"
   ]
  },
  {
   "cell_type": "code",
   "execution_count": 10,
   "id": "e61caedb",
   "metadata": {},
   "outputs": [],
   "source": [
    "top_3_results = [\n",
    "    (hs_tree.iloc[int(idx)]['HS6'], 1 - D[0][j]) \n",
    "    for j, idx in enumerate(I[0])\n",
    "]"
   ]
  },
  {
   "cell_type": "code",
   "execution_count": 15,
   "id": "f671e2cd",
   "metadata": {},
   "outputs": [],
   "source": [
    "def log_search_results(query, results):\n",
    "    print(f\"\\nQuery: {query}\")\n",
    "    for hs6_code, score in results:\n",
    "        print(f\"HS6: {hs6_code} | Confidence: {score:.4f}\")\n"
   ]
  },
  {
   "cell_type": "code",
   "execution_count": 16,
   "id": "ca631a5d",
   "metadata": {},
   "outputs": [
    {
     "name": "stdout",
     "output_type": "stream",
     "text": [
      "\n",
      "Query: LED TV with 4K display\n",
      "HS6: nan | Confidence: -0.2463\n",
      "HS6: 854011.0 | Confidence: -0.2463\n",
      "HS6: 854012.0 | Confidence: -0.3249\n"
     ]
    }
   ],
   "source": [
    "log_search_results(query, top_3_results)"
   ]
  },
  {
   "cell_type": "code",
   "execution_count": 17,
   "id": "6471cfd1",
   "metadata": {},
   "outputs": [],
   "source": [
    "search_log = []\n",
    "\n",
    "def log_search_results_to_csv(query, results):\n",
    "    for hs6_code, confidence in results:\n",
    "        search_log.append({\n",
    "            \"query\": query,\n",
    "            \"hs6_result\": hs6_code,\n",
    "            \"confidence_score\": round(confidence, 4)\n",
    "        })"
   ]
  },
  {
   "cell_type": "code",
   "execution_count": 30,
   "id": "904da109",
   "metadata": {},
   "outputs": [],
   "source": [
    "query = \"Fresh apples\"\n",
    "query_embedding = model.encode([query])[0]\n",
    "\n",
    "D, I = index.search(np.array([query_embedding]), k=3)\n",
    "\n",
    "top_3_results = [\n",
    "    (hs_tree.iloc[int(idx)]['HS6'], 1 - D[0][j]) \n",
    "    for j, idx in enumerate(I[0])\n",
    "]\n",
    "\n",
    "# Log results\n",
    "log_search_results_to_csv(query, top_3_results)\n"
   ]
  },
  {
   "cell_type": "code",
   "execution_count": 31,
   "id": "6990830f",
   "metadata": {},
   "outputs": [],
   "source": [
    "df_log = pd.DataFrame(search_log)\n",
    "df_log.to_csv(\"../outputs/search_results_log.csv\", index=False)\n"
   ]
  }
 ],
 "metadata": {
  "kernelspec": {
   "display_name": "base",
   "language": "python",
   "name": "python3"
  },
  "language_info": {
   "codemirror_mode": {
    "name": "ipython",
    "version": 3
   },
   "file_extension": ".py",
   "mimetype": "text/x-python",
   "name": "python",
   "nbconvert_exporter": "python",
   "pygments_lexer": "ipython3",
   "version": "3.11.7"
  }
 },
 "nbformat": 4,
 "nbformat_minor": 5
}
