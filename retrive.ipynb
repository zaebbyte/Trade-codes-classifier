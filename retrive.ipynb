{
 "cells": [
  {
   "cell_type": "code",
   "execution_count": 1,
   "id": "8ef7f07e",
   "metadata": {},
   "outputs": [
    {
     "name": "stdout",
     "output_type": "stream",
     "text": [
      "Requirement already satisfied: sentence-transformers in c:\\users\\varsha\\anaconda3\\lib\\site-packages (5.0.0)\n",
      "Requirement already satisfied: transformers<5.0.0,>=4.41.0 in c:\\users\\varsha\\anaconda3\\lib\\site-packages (from sentence-transformers) (4.53.0)\n",
      "Requirement already satisfied: tqdm in c:\\users\\varsha\\anaconda3\\lib\\site-packages (from sentence-transformers) (4.65.0)\n",
      "Requirement already satisfied: torch>=1.11.0 in c:\\users\\varsha\\anaconda3\\lib\\site-packages (from sentence-transformers) (2.2.2)\n",
      "Requirement already satisfied: scikit-learn in c:\\users\\varsha\\anaconda3\\lib\\site-packages (from sentence-transformers) (1.2.2)\n",
      "Requirement already satisfied: scipy in c:\\users\\varsha\\anaconda3\\lib\\site-packages (from sentence-transformers) (1.11.4)\n",
      "Requirement already satisfied: huggingface-hub>=0.20.0 in c:\\users\\varsha\\anaconda3\\lib\\site-packages (from sentence-transformers) (0.33.2)\n",
      "Requirement already satisfied: Pillow in c:\\users\\varsha\\anaconda3\\lib\\site-packages (from sentence-transformers) (10.2.0)\n",
      "Requirement already satisfied: typing_extensions>=4.5.0 in c:\\users\\varsha\\anaconda3\\lib\\site-packages (from sentence-transformers) (4.9.0)\n",
      "Requirement already satisfied: filelock in c:\\users\\varsha\\anaconda3\\lib\\site-packages (from huggingface-hub>=0.20.0->sentence-transformers) (3.13.1)\n",
      "Requirement already satisfied: fsspec>=2023.5.0 in c:\\users\\varsha\\anaconda3\\lib\\site-packages (from huggingface-hub>=0.20.0->sentence-transformers) (2023.10.0)\n",
      "Requirement already satisfied: packaging>=20.9 in c:\\users\\varsha\\anaconda3\\lib\\site-packages (from huggingface-hub>=0.20.0->sentence-transformers) (23.2)\n",
      "Requirement already satisfied: pyyaml>=5.1 in c:\\users\\varsha\\anaconda3\\lib\\site-packages (from huggingface-hub>=0.20.0->sentence-transformers) (6.0.1)\n",
      "Requirement already satisfied: requests in c:\\users\\varsha\\anaconda3\\lib\\site-packages (from huggingface-hub>=0.20.0->sentence-transformers) (2.31.0)\n",
      "Requirement already satisfied: sympy in c:\\users\\varsha\\anaconda3\\lib\\site-packages (from torch>=1.11.0->sentence-transformers) (1.12)\n",
      "Requirement already satisfied: networkx in c:\\users\\varsha\\anaconda3\\lib\\site-packages (from torch>=1.11.0->sentence-transformers) (3.1)\n",
      "Requirement already satisfied: jinja2 in c:\\users\\varsha\\anaconda3\\lib\\site-packages (from torch>=1.11.0->sentence-transformers) (3.1.3)\n",
      "Requirement already satisfied: colorama in c:\\users\\varsha\\anaconda3\\lib\\site-packages (from tqdm->sentence-transformers) (0.4.6)\n",
      "Requirement already satisfied: numpy>=1.17 in c:\\users\\varsha\\anaconda3\\lib\\site-packages (from transformers<5.0.0,>=4.41.0->sentence-transformers) (1.26.4)\n",
      "Requirement already satisfied: regex!=2019.12.17 in c:\\users\\varsha\\anaconda3\\lib\\site-packages (from transformers<5.0.0,>=4.41.0->sentence-transformers) (2023.10.3)\n",
      "Requirement already satisfied: tokenizers<0.22,>=0.21 in c:\\users\\varsha\\anaconda3\\lib\\site-packages (from transformers<5.0.0,>=4.41.0->sentence-transformers) (0.21.2)\n",
      "Requirement already satisfied: safetensors>=0.4.3 in c:\\users\\varsha\\anaconda3\\lib\\site-packages (from transformers<5.0.0,>=4.41.0->sentence-transformers) (0.5.3)\n",
      "Requirement already satisfied: joblib>=1.1.1 in c:\\users\\varsha\\anaconda3\\lib\\site-packages (from scikit-learn->sentence-transformers) (1.2.0)\n",
      "Requirement already satisfied: threadpoolctl>=2.0.0 in c:\\users\\varsha\\anaconda3\\lib\\site-packages (from scikit-learn->sentence-transformers) (2.2.0)\n",
      "Requirement already satisfied: MarkupSafe>=2.0 in c:\\users\\varsha\\anaconda3\\lib\\site-packages (from jinja2->torch>=1.11.0->sentence-transformers) (2.1.3)\n",
      "Requirement already satisfied: charset-normalizer<4,>=2 in c:\\users\\varsha\\anaconda3\\lib\\site-packages (from requests->huggingface-hub>=0.20.0->sentence-transformers) (2.0.4)\n",
      "Requirement already satisfied: idna<4,>=2.5 in c:\\users\\varsha\\anaconda3\\lib\\site-packages (from requests->huggingface-hub>=0.20.0->sentence-transformers) (3.4)\n",
      "Requirement already satisfied: urllib3<3,>=1.21.1 in c:\\users\\varsha\\anaconda3\\lib\\site-packages (from requests->huggingface-hub>=0.20.0->sentence-transformers) (2.0.7)\n",
      "Requirement already satisfied: certifi>=2017.4.17 in c:\\users\\varsha\\anaconda3\\lib\\site-packages (from requests->huggingface-hub>=0.20.0->sentence-transformers) (2024.2.2)\n",
      "Requirement already satisfied: mpmath>=0.19 in c:\\users\\varsha\\anaconda3\\lib\\site-packages (from sympy->torch>=1.11.0->sentence-transformers) (1.3.0)\n",
      "Note: you may need to restart the kernel to use updated packages.\n"
     ]
    }
   ],
   "source": [
    "%pip install -U sentence-transformers"
   ]
  },
  {
   "cell_type": "code",
   "execution_count": 1,
   "id": "bb65e449",
   "metadata": {},
   "outputs": [],
   "source": [
    "import numpy as np\n",
    "from sentence_transformers import SentenceTransformer\n",
    "\n",
    "embeddings = np.load(\"../data/processed/hs_tree_embeddings.npy\")\n"
   ]
  },
  {
   "cell_type": "code",
   "execution_count": 2,
   "id": "9e43caeb",
   "metadata": {},
   "outputs": [],
   "source": [
    "from sklearn.metrics.pairwise import cosine_similarity\n",
    "from sentence_transformers import SentenceTransformer\n",
    "\n",
    "def get_top_k_matches(query, model, stored_embeddings, k=3):\n",
    "    query_embedding = model.encode([query])\n",
    "    similarities = cosine_similarity(query_embedding, stored_embeddings)[0]\n",
    "    top_indices = similarities.argsort()[::-1][:k]\n",
    "    return top_indices, similarities[top_indices]"
   ]
  },
  {
   "cell_type": "code",
   "execution_count": 3,
   "id": "483d442e",
   "metadata": {},
   "outputs": [
    {
     "name": "stdout",
     "output_type": "stream",
     "text": [
      "HS6: 110320.0, Desc: cereal pellets, Score: 0.779\n",
      "HS6: 100310.0, Desc: cereals barley seed, Score: 0.750\n",
      "HS6: nan, Desc: cereals barley seed, Score: 0.750\n"
     ]
    }
   ],
   "source": [
    "import pandas as pd\n",
    "\n",
    "hs_tree = pd.read_csv(\"../data/clean/clean_HS_Tree.csv\")\n",
    "model = SentenceTransformer(\"all-MiniLM-L6-v2\")\n",
    "\n",
    "query = \"Cereals\"\n",
    "indices, scores = get_top_k_matches(query, model, embeddings, k=3)\n",
    "\n",
    "for i, score in zip(indices, scores):\n",
    "    print(f\"HS6: {hs_tree.iloc[i]['HS6']}, Desc: {hs_tree.iloc[i]['description']}, Score: {score:.3f}\")\n"
   ]
  },
  {
   "cell_type": "code",
   "execution_count": 16,
   "id": "c619c49c",
   "metadata": {},
   "outputs": [],
   "source": [
    "hs_tree[['description', 'HS6']].to_csv('../data/hs_tree_lookup.csv', index=False)"
   ]
  },
  {
   "cell_type": "code",
   "execution_count": 19,
   "id": "8ae8b76c",
   "metadata": {},
   "outputs": [
    {
     "name": "stdout",
     "output_type": "stream",
     "text": [
      "Collecting faiss-cpu\n",
      "  Downloading faiss_cpu-1.11.0-cp311-cp311-win_amd64.whl.metadata (5.0 kB)\n",
      "Requirement already satisfied: numpy<3.0,>=1.25.0 in c:\\users\\varsha\\anaconda3\\lib\\site-packages (from faiss-cpu) (1.26.4)\n",
      "Requirement already satisfied: packaging in c:\\users\\varsha\\anaconda3\\lib\\site-packages (from faiss-cpu) (23.2)\n",
      "Downloading faiss_cpu-1.11.0-cp311-cp311-win_amd64.whl (15.0 MB)\n",
      "   ---------------------------------------- 0.0/15.0 MB ? eta -:--:--\n",
      "   ---------------------------------------- 0.0/15.0 MB ? eta -:--:--\n",
      "   ---------------------------------------- 0.1/15.0 MB 1.8 MB/s eta 0:00:09\n",
      "    --------------------------------------- 0.3/15.0 MB 3.5 MB/s eta 0:00:05\n",
      "   - -------------------------------------- 0.7/15.0 MB 5.2 MB/s eta 0:00:03\n",
      "   --- ------------------------------------ 1.1/15.0 MB 6.0 MB/s eta 0:00:03\n",
      "   --- ------------------------------------ 1.4/15.0 MB 5.8 MB/s eta 0:00:03\n",
      "   ---- ----------------------------------- 1.7/15.0 MB 6.0 MB/s eta 0:00:03\n",
      "   ----- ---------------------------------- 2.1/15.0 MB 6.3 MB/s eta 0:00:03\n",
      "   ------ --------------------------------- 2.4/15.0 MB 6.4 MB/s eta 0:00:02\n",
      "   ------- -------------------------------- 2.8/15.0 MB 6.7 MB/s eta 0:00:02\n",
      "   -------- ------------------------------- 3.2/15.0 MB 6.9 MB/s eta 0:00:02\n",
      "   --------- ------------------------------ 3.7/15.0 MB 7.2 MB/s eta 0:00:02\n",
      "   ---------- ----------------------------- 4.1/15.0 MB 7.2 MB/s eta 0:00:02\n",
      "   ------------ --------------------------- 4.6/15.0 MB 7.5 MB/s eta 0:00:02\n",
      "   ------------- -------------------------- 4.9/15.0 MB 7.5 MB/s eta 0:00:02\n",
      "   -------------- ------------------------- 5.3/15.0 MB 7.6 MB/s eta 0:00:02\n",
      "   -------------- ------------------------- 5.4/15.0 MB 7.1 MB/s eta 0:00:02\n",
      "   --------------- ------------------------ 5.7/15.0 MB 7.1 MB/s eta 0:00:02\n",
      "   ---------------- ----------------------- 6.2/15.0 MB 7.3 MB/s eta 0:00:02\n",
      "   ----------------- ---------------------- 6.6/15.0 MB 7.4 MB/s eta 0:00:02\n",
      "   ------------------ --------------------- 7.0/15.0 MB 7.4 MB/s eta 0:00:02\n",
      "   ------------------- -------------------- 7.4/15.0 MB 7.5 MB/s eta 0:00:02\n",
      "   -------------------- ------------------- 7.7/15.0 MB 7.4 MB/s eta 0:00:01\n",
      "   --------------------- ------------------ 8.1/15.0 MB 7.6 MB/s eta 0:00:01\n",
      "   ---------------------- ----------------- 8.5/15.0 MB 7.6 MB/s eta 0:00:01\n",
      "   ----------------------- ---------------- 8.8/15.0 MB 7.6 MB/s eta 0:00:01\n",
      "   ------------------------ --------------- 9.2/15.0 MB 7.6 MB/s eta 0:00:01\n",
      "   ------------------------- -------------- 9.6/15.0 MB 7.7 MB/s eta 0:00:01\n",
      "   -------------------------- ------------- 10.0/15.0 MB 7.7 MB/s eta 0:00:01\n",
      "   --------------------------- ------------ 10.5/15.0 MB 8.2 MB/s eta 0:00:01\n",
      "   ----------------------------- ---------- 11.0/15.0 MB 8.3 MB/s eta 0:00:01\n",
      "   ------------------------------ --------- 11.3/15.0 MB 8.2 MB/s eta 0:00:01\n",
      "   ------------------------------- -------- 11.8/15.0 MB 8.3 MB/s eta 0:00:01\n",
      "   -------------------------------- ------- 12.3/15.0 MB 8.5 MB/s eta 0:00:01\n",
      "   --------------------------------- ------ 12.7/15.0 MB 8.6 MB/s eta 0:00:01\n",
      "   ---------------------------------- ----- 13.0/15.0 MB 8.5 MB/s eta 0:00:01\n",
      "   ----------------------------------- ---- 13.5/15.0 MB 8.5 MB/s eta 0:00:01\n",
      "   ------------------------------------ --- 13.7/15.0 MB 8.4 MB/s eta 0:00:01\n",
      "   ------------------------------------- -- 14.2/15.0 MB 8.4 MB/s eta 0:00:01\n",
      "   -------------------------------------- - 14.6/15.0 MB 8.5 MB/s eta 0:00:01\n",
      "   ---------------------------------------  14.8/15.0 MB 8.2 MB/s eta 0:00:01\n",
      "   ---------------------------------------- 15.0/15.0 MB 8.1 MB/s eta 0:00:00\n",
      "Installing collected packages: faiss-cpu\n",
      "Successfully installed faiss-cpu-1.11.0\n",
      "Note: you may need to restart the kernel to use updated packages.\n"
     ]
    }
   ],
   "source": [
    "%pip install -U faiss-cpu\n"
   ]
  },
  {
   "cell_type": "code",
   "execution_count": 22,
   "id": "d67601b7",
   "metadata": {},
   "outputs": [],
   "source": [
    "import faiss \n",
    "\n",
    "index = faiss.IndexFlatL2(embeddings.shape[1])\n",
    "index.add(embeddings)\n",
    "faiss.write_index(index, \"../models/faiss_index.index\")\n"
   ]
  }
 ],
 "metadata": {
  "kernelspec": {
   "display_name": "base",
   "language": "python",
   "name": "python3"
  },
  "language_info": {
   "codemirror_mode": {
    "name": "ipython",
    "version": 3
   },
   "file_extension": ".py",
   "mimetype": "text/x-python",
   "name": "python",
   "nbconvert_exporter": "python",
   "pygments_lexer": "ipython3",
   "version": "3.11.7"
  }
 },
 "nbformat": 4,
 "nbformat_minor": 5
}
