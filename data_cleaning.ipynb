{
 "cells": [
  {
   "cell_type": "code",
   "execution_count": 11,
   "id": "ea2e470e",
   "metadata": {},
   "outputs": [
    {
     "data": {
      "text/html": [
       "<div>\n",
       "<style scoped>\n",
       "    .dataframe tbody tr th:only-of-type {\n",
       "        vertical-align: middle;\n",
       "    }\n",
       "\n",
       "    .dataframe tbody tr th {\n",
       "        vertical-align: top;\n",
       "    }\n",
       "\n",
       "    .dataframe thead th {\n",
       "        text-align: right;\n",
       "    }\n",
       "</style>\n",
       "<table border=\"1\" class=\"dataframe\">\n",
       "  <thead>\n",
       "    <tr style=\"text-align: right;\">\n",
       "      <th></th>\n",
       "      <th>Section</th>\n",
       "      <th>HS6</th>\n",
       "      <th>description</th>\n",
       "    </tr>\n",
       "  </thead>\n",
       "  <tbody>\n",
       "    <tr>\n",
       "      <th>0</th>\n",
       "      <td>NaN</td>\n",
       "      <td>10121</td>\n",
       "      <td>Horses; live, pure-bred breeding animals</td>\n",
       "    </tr>\n",
       "    <tr>\n",
       "      <th>1</th>\n",
       "      <td>NaN</td>\n",
       "      <td>10129</td>\n",
       "      <td>Horses; live, other than pure-bred breeding an...</td>\n",
       "    </tr>\n",
       "    <tr>\n",
       "      <th>2</th>\n",
       "      <td>NaN</td>\n",
       "      <td>10130</td>\n",
       "      <td>Asses; live</td>\n",
       "    </tr>\n",
       "    <tr>\n",
       "      <th>3</th>\n",
       "      <td>NaN</td>\n",
       "      <td>10190</td>\n",
       "      <td>Mules and hinnies; live</td>\n",
       "    </tr>\n",
       "    <tr>\n",
       "      <th>4</th>\n",
       "      <td>NaN</td>\n",
       "      <td>10221</td>\n",
       "      <td>Cattle; live, pure-bred breeding animals</td>\n",
       "    </tr>\n",
       "  </tbody>\n",
       "</table>\n",
       "</div>"
      ],
      "text/plain": [
       "   Section    HS6                                        description\n",
       "0      NaN  10121           Horses; live, pure-bred breeding animals\n",
       "1      NaN  10129  Horses; live, other than pure-bred breeding an...\n",
       "2      NaN  10130                                        Asses; live\n",
       "3      NaN  10190                            Mules and hinnies; live\n",
       "4      NaN  10221           Cattle; live, pure-bred breeding animals"
      ]
     },
     "execution_count": 11,
     "metadata": {},
     "output_type": "execute_result"
    }
   ],
   "source": [
    "import pandas as pd\n",
    "\n",
    "# Load files\n",
    "hs_tree = pd.read_csv('../data/Hs_Tree.csv')\n",
    "flat_table = pd.read_csv('../data/Flat_Table.csv')\n",
    "\n",
    "hs_tree.head()\n",
    "flat_table.head()\n"
   ]
  },
  {
   "cell_type": "code",
   "execution_count": 12,
   "id": "8e7410c6",
   "metadata": {},
   "outputs": [
    {
     "name": "stdout",
     "output_type": "stream",
     "text": [
      "<class 'pandas.core.frame.DataFrame'>\n",
      "RangeIndex: 6939 entries, 0 to 6938\n",
      "Data columns (total 4 columns):\n",
      " #   Column       Non-Null Count  Dtype  \n",
      "---  ------       --------------  -----  \n",
      " 0   HS2          97 non-null     float64\n",
      " 1   HS4          1229 non-null   float64\n",
      " 2   HS6          5613 non-null   float64\n",
      " 3   description  6939 non-null   object \n",
      "dtypes: float64(3), object(1)\n",
      "memory usage: 217.0+ KB\n",
      "<class 'pandas.core.frame.DataFrame'>\n",
      "RangeIndex: 5613 entries, 0 to 5612\n",
      "Data columns (total 3 columns):\n",
      " #   Column       Non-Null Count  Dtype  \n",
      "---  ------       --------------  -----  \n",
      " 0   Section      0 non-null      float64\n",
      " 1   HS6          5613 non-null   int64  \n",
      " 2   description  5613 non-null   object \n",
      "dtypes: float64(1), int64(1), object(1)\n",
      "memory usage: 131.7+ KB\n"
     ]
    }
   ],
   "source": [
    "# Quick data check\n",
    "hs_tree.info()\n",
    "flat_table.info()\n"
   ]
  },
  {
   "cell_type": "code",
   "execution_count": 13,
   "id": "17d4b66b",
   "metadata": {},
   "outputs": [
    {
     "data": {
      "text/plain": [
       "0"
      ]
     },
     "execution_count": 13,
     "metadata": {},
     "output_type": "execute_result"
    }
   ],
   "source": [
    "hs_tree['description'].isnull().sum()"
   ]
  },
  {
   "cell_type": "code",
   "execution_count": 14,
   "id": "1a3f4c70",
   "metadata": {},
   "outputs": [],
   "source": [
    "import re\n",
    "\n",
    "def clean_text(text):\n",
    "    if isinstance(text, str):\n",
    "        text = text.lower()\n",
    "        text = re.sub(r'[^\\w\\s]', '', text)  # remove punctuation\n",
    "        text = text.strip()\n",
    "    return text\n",
    "\n",
    "hs_tree['description'] = hs_tree['description'].apply(clean_text)\n",
    "flat_table['description'] = flat_table['description'].apply(clean_text)"
   ]
  },
  {
   "cell_type": "code",
   "execution_count": 15,
   "id": "dd0e35cb",
   "metadata": {},
   "outputs": [],
   "source": [
    "import os\n",
    "\n",
    "# Save into\n",
    "os.makedirs('../data/clean/', exist_ok=True)\n",
    "hs_tree.to_csv('../data/clean/clean_HS_Tree.csv', index=False)\n",
    "flat_table.to_csv('../data/clean/clean_Flat_Table.csv', index=False)\n"
   ]
  },
  {
   "cell_type": "code",
   "execution_count": 31,
   "id": "56e5fced",
   "metadata": {},
   "outputs": [],
   "source": [
    "hierarchy_df = pd.read_csv('../data/Hs_Tree.csv')"
   ]
  },
  {
   "cell_type": "code",
   "execution_count": 32,
   "id": "764711b2",
   "metadata": {},
   "outputs": [
    {
     "name": "stdout",
     "output_type": "stream",
     "text": [
      "   HS2    HS4      HS6                                        description\n",
      "0  1.0    NaN      NaN           Horses; live, pure-bred breeding animals\n",
      "1  NaN  101.0      NaN           Horses; live, pure-bred breeding animals\n",
      "2  NaN    NaN  10121.0           Horses; live, pure-bred breeding animals\n",
      "3  NaN    NaN  10129.0  Horses; live, other than pure-bred breeding an...\n",
      "4  NaN    NaN  10130.0                                        Asses; live\n",
      "Index(['HS2', 'HS4', 'HS6', 'description'], dtype='object')\n",
      "(6939, 4)\n"
     ]
    }
   ],
   "source": [
    "print(hierarchy_df.head())\n",
    "print(hierarchy_df.columns)\n",
    "print(hierarchy_df.shape)"
   ]
  },
  {
   "cell_type": "code",
   "execution_count": 33,
   "id": "54e9f8d5",
   "metadata": {},
   "outputs": [
    {
     "name": "stdout",
     "output_type": "stream",
     "text": [
      "HS2            6842\n",
      "HS4            5710\n",
      "HS6            1326\n",
      "description       0\n",
      "dtype: int64\n"
     ]
    }
   ],
   "source": [
    "print(hierarchy_df.isnull().sum())"
   ]
  },
  {
   "cell_type": "code",
   "execution_count": 34,
   "id": "bc7bec0d",
   "metadata": {},
   "outputs": [],
   "source": [
    "hierarchy_df['HS6'] = hierarchy_df['HS6'].astype(str).str.zfill(6)\n",
    "hierarchy_df['HS2'] = hierarchy_df['HS6'].str[:2]\n"
   ]
  },
  {
   "cell_type": "code",
   "execution_count": 35,
   "id": "7898ff0e",
   "metadata": {},
   "outputs": [],
   "source": [
    "hierarchy_df.to_csv('../data/clean/hs_hierarchy.csv', index=False)"
   ]
  },
  {
   "cell_type": "code",
   "execution_count": 36,
   "id": "8cbc81b2",
   "metadata": {},
   "outputs": [],
   "source": [
    "import seaborn as sns\n",
    "import matplotlib.pyplot as plt"
   ]
  },
  {
   "cell_type": "code",
   "execution_count": 39,
   "id": "36dc1c1c",
   "metadata": {},
   "outputs": [],
   "source": [
    "hs2_counts = hierarchy_df.groupby('HS2')['HS6'].count()\n"
   ]
  },
  {
   "cell_type": "code",
   "execution_count": 40,
   "id": "a975b724",
   "metadata": {},
   "outputs": [
    {
     "name": "stdout",
     "output_type": "stream",
     "text": [
      "HS2\n",
      "00    1326\n",
      "10      60\n",
      "11      27\n",
      "12      50\n",
      "13      11\n",
      "      ... \n",
      "94      54\n",
      "95      39\n",
      "96      49\n",
      "97      19\n",
      "99       1\n",
      "Name: HS6, Length: 89, dtype: int64\n"
     ]
    }
   ],
   "source": [
    "print(hs2_counts)\n"
   ]
  },
  {
   "cell_type": "code",
   "execution_count": 41,
   "id": "828c743e",
   "metadata": {},
   "outputs": [
    {
     "name": "stdout",
     "output_type": "stream",
     "text": [
      "Index(['00', '10', '11', '12', '13', '14', '15', '16', '17', '18', '19', '20',\n",
      "       '21', '22', '23', '24', '25', '26', '27', '28', '29', '30', '31', '32',\n",
      "       '33', '34', '35', '36', '37', '38', '39', '40', '41', '42', '43', '44',\n",
      "       '45', '46', '47', '48', '49', '50', '51', '52', '53', '54', '55', '56',\n",
      "       '57', '58', '59', '60', '61', '62', '63', '64', '65', '66', '67', '68',\n",
      "       '69', '70', '71', '72', '73', '74', '75', '76', '78', '79', '80', '81',\n",
      "       '82', '83', '84', '85', '86', '87', '88', '89', '90', '91', '92', '93',\n",
      "       '94', '95', '96', '97', '99'],\n",
      "      dtype='object', name='HS2')\n"
     ]
    }
   ],
   "source": [
    "print(hs2_counts.index)"
   ]
  },
  {
   "cell_type": "code",
   "execution_count": 42,
   "id": "1fee410c",
   "metadata": {},
   "outputs": [
    {
     "name": "stdout",
     "output_type": "stream",
     "text": [
      "[1326   60   27   50   11    5   53   42   17   11   19  110   24   24\n",
      "   23   16   67   37   43  180  410  270   24   45   29   24   15   13\n",
      "   30  108  131  111   39   20   12  128    7   11   21  101   18   20\n",
      "   42  124   23   72  110   30   24   37   24   60  106  104   52   25\n",
      "    8    6    8   50   30  106   93  167  124   49   17   35    8    9\n",
      "   56   75   64   36  538  296   23   98   26   25  176   54   17   18\n",
      "   54   39   49   19    1]\n"
     ]
    }
   ],
   "source": [
    "print(hs2_counts.values)"
   ]
  },
  {
   "cell_type": "code",
   "execution_count": 43,
   "id": "abe98563",
   "metadata": {},
   "outputs": [
    {
     "name": "stdout",
     "output_type": "stream",
     "text": [
      "  HS2      HS6\n",
      "0  00   000nan\n",
      "1  00   000nan\n",
      "2  10  10121.0\n",
      "3  10  10129.0\n",
      "4  10  10130.0\n",
      "5  10  10190.0\n",
      "6  00   000nan\n",
      "7  10  10221.0\n",
      "8  10  10229.0\n",
      "9  10  10231.0\n"
     ]
    }
   ],
   "source": [
    "print(hierarchy_df[['HS2', 'HS6']].head(10))\n"
   ]
  },
  {
   "cell_type": "code",
   "execution_count": 44,
   "id": "aece6d0e",
   "metadata": {},
   "outputs": [
    {
     "name": "stdout",
     "output_type": "stream",
     "text": [
      "(6939, 4)\n"
     ]
    }
   ],
   "source": [
    "\n",
    "print(hierarchy_df.shape)\n"
   ]
  },
  {
   "cell_type": "code",
   "execution_count": 45,
   "id": "3d0b2993",
   "metadata": {},
   "outputs": [
    {
     "data": {
      "image/png": "[encoded data removed]",
      "text/plain": [
       "<Figure size 1200x400 with 1 Axes>"
      ]
     },
     "metadata": {},
     "output_type": "display_data"
    }
   ],
   "source": [
    "#PLOT \n",
    "plt.figure(figsize=(12, 4))\n",
    "sns.barplot(x=hs2_counts.index, y=hs2_counts.values,palette='viridis')\n",
    "plt.title('Number of HS6 Codes per HS2 Category')\n",
    "plt.xlabel('HS2 Code')\n",
    "plt.ylabel('Count of HS6 Codes')\n",
    "plt.xticks(rotation=45)\n",
    "plt.tight_layout()\n",
    "plt.show()"
   ]
  },
  {
   "cell_type": "code",
   "execution_count": 46,
   "id": "4de31f89",
   "metadata": {},
   "outputs": [],
   "source": [
    "hierarchy2_df = pd.read_csv('../data/Hs_Tree.csv')"
   ]
  },
  {
   "cell_type": "code",
   "execution_count": 51,
   "id": "07aee65d",
   "metadata": {},
   "outputs": [],
   "source": [
    "hierarchy2_df['HS6'] = hierarchy2_df['HS6'].astype(str).str.zfill(6)\n",
    "hierarchy2_df['HS4'] = hierarchy2_df['HS6'].str[:4]\n"
   ]
  },
  {
   "cell_type": "code",
   "execution_count": 52,
   "id": "952dbcbb",
   "metadata": {},
   "outputs": [],
   "source": [
    "hs4_counts = hierarchy2_df.groupby('HS4')['HS6'].count()\n"
   ]
  },
  {
   "cell_type": "code",
   "execution_count": 53,
   "id": "ea4a3e3b",
   "metadata": {},
   "outputs": [
    {
     "name": "stdout",
     "output_type": "stream",
     "text": [
      "HS4\n",
      "000n    1326\n",
      "1001       4\n",
      "1002       2\n",
      "1003       2\n",
      "1004       2\n",
      "        ... \n",
      "9703       2\n",
      "9704       1\n",
      "9705       6\n",
      "9706       2\n",
      "9999       1\n",
      "Name: HS6, Length: 1387, dtype: int64\n"
     ]
    }
   ],
   "source": [
    "print(hs4_counts)"
   ]
  },
  {
   "cell_type": "code",
   "execution_count": 54,
   "id": "05e85541",
   "metadata": {},
   "outputs": [
    {
     "name": "stdout",
     "output_type": "stream",
     "text": [
      "Index(['000n', '1001', '1002', '1003', '1004', '1005', '1006', '1007', '1008',\n",
      "       '1012',\n",
      "       ...\n",
      "       '9618', '9619', '9620', '9701', '9702', '9703', '9704', '9705', '9706',\n",
      "       '9999'],\n",
      "      dtype='object', name='HS4', length=1387)\n"
     ]
    }
   ],
   "source": [
    "print(hs4_counts.index)"
   ]
  },
  {
   "cell_type": "code",
   "execution_count": 55,
   "id": "b20fa937",
   "metadata": {},
   "outputs": [
    {
     "name": "stdout",
     "output_type": "stream",
     "text": [
      "[1326    4    2 ...    6    2    1]\n"
     ]
    }
   ],
   "source": [
    "print(hs4_counts.values)"
   ]
  },
  {
   "cell_type": "code",
   "execution_count": 56,
   "id": "476dcf38",
   "metadata": {},
   "outputs": [
    {
     "name": "stdout",
     "output_type": "stream",
     "text": [
      "    HS4      HS6\n",
      "0  000n   000nan\n",
      "1  000n   000nan\n",
      "2  1012  10121.0\n",
      "3  1012  10129.0\n",
      "4  1013  10130.0\n",
      "5  1019  10190.0\n",
      "6  000n   000nan\n",
      "7  1022  10221.0\n",
      "8  1022  10229.0\n",
      "9  1023  10231.0\n"
     ]
    }
   ],
   "source": [
    "print(hierarchy2_df[['HS4', 'HS6']].head(10))\n"
   ]
  },
  {
   "cell_type": "code",
   "execution_count": 61,
   "id": "4e97b6dc",
   "metadata": {},
   "outputs": [],
   "source": [
    "top_n = 20\n",
    "top_hs4_counts = hs4_counts.head(top_n)"
   ]
  },
  {
   "cell_type": "code",
   "execution_count": 62,
   "id": "74b0d478",
   "metadata": {},
   "outputs": [
    {
     "data": {
      "image/png": "[encoded data removed]",
      "text/plain": [
       "<Figure size 1200x600 with 1 Axes>"
      ]
     },
     "metadata": {},
     "output_type": "display_data"
    }
   ],
   "source": [
    "plt.figure(figsize=(12, 6))\n",
    "sns.barplot(x=top_hs4_counts.index, y=top_hs4_counts.values, palette='magma')\n",
    "\n",
    "plt.title(f'Top {top_n} HS4 Codes by Number of Unique HS6 Codes')\n",
    "plt.xlabel('HS4 Code')\n",
    "plt.ylabel('HS6 Count')\n",
    "plt.xticks(rotation=45)\n",
    "plt.tight_layout()\n",
    "plt.show()"
   ]
  }
 ],
 "metadata": {
  "kernelspec": {
   "display_name": "base",
   "language": "python",
   "name": "python3"
  },
  "language_info": {
   "codemirror_mode": {
    "name": "ipython",
    "version": 3
   },
   "file_extension": ".py",
   "mimetype": "text/x-python",
   "name": "python",
   "nbconvert_exporter": "python",
   "pygments_lexer": "ipython3",
   "version": "3.11.7"
  }
 },
 "nbformat": 4,
 "nbformat_minor": 5
}
