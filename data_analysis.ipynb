{
 "cells": [
  {
   "cell_type": "code",
   "execution_count": 1,
   "id": "d151b990",
   "metadata": {},
   "outputs": [
    {
     "name": "stdout",
     "output_type": "stream",
     "text": [
      "hs_tree\n"
     ]
    },
    {
     "data": {
      "text/html": [
       "<div>\n",
       "<style scoped>\n",
       "    .dataframe tbody tr th:only-of-type {\n",
       "        vertical-align: middle;\n",
       "    }\n",
       "\n",
       "    .dataframe tbody tr th {\n",
       "        vertical-align: top;\n",
       "    }\n",
       "\n",
       "    .dataframe thead th {\n",
       "        text-align: right;\n",
       "    }\n",
       "</style>\n",
       "<table border=\"1\" class=\"dataframe\">\n",
       "  <thead>\n",
       "    <tr style=\"text-align: right;\">\n",
       "      <th></th>\n",
       "      <th>HS2</th>\n",
       "      <th>HS4</th>\n",
       "      <th>HS6</th>\n",
       "      <th>description</th>\n",
       "    </tr>\n",
       "  </thead>\n",
       "  <tbody>\n",
       "    <tr>\n",
       "      <th>0</th>\n",
       "      <td>1.0</td>\n",
       "      <td>NaN</td>\n",
       "      <td>NaN</td>\n",
       "      <td>Horses; live, pure-bred breeding animals</td>\n",
       "    </tr>\n",
       "    <tr>\n",
       "      <th>1</th>\n",
       "      <td>NaN</td>\n",
       "      <td>101.0</td>\n",
       "      <td>NaN</td>\n",
       "      <td>Horses; live, pure-bred breeding animals</td>\n",
       "    </tr>\n",
       "    <tr>\n",
       "      <th>2</th>\n",
       "      <td>NaN</td>\n",
       "      <td>NaN</td>\n",
       "      <td>10121.0</td>\n",
       "      <td>Horses; live, pure-bred breeding animals</td>\n",
       "    </tr>\n",
       "    <tr>\n",
       "      <th>3</th>\n",
       "      <td>NaN</td>\n",
       "      <td>NaN</td>\n",
       "      <td>10129.0</td>\n",
       "      <td>Horses; live, other than pure-bred breeding an...</td>\n",
       "    </tr>\n",
       "    <tr>\n",
       "      <th>4</th>\n",
       "      <td>NaN</td>\n",
       "      <td>NaN</td>\n",
       "      <td>10130.0</td>\n",
       "      <td>Asses; live</td>\n",
       "    </tr>\n",
       "  </tbody>\n",
       "</table>\n",
       "</div>"
      ],
      "text/plain": [
       "   HS2    HS4      HS6                                        description\n",
       "0  1.0    NaN      NaN           Horses; live, pure-bred breeding animals\n",
       "1  NaN  101.0      NaN           Horses; live, pure-bred breeding animals\n",
       "2  NaN    NaN  10121.0           Horses; live, pure-bred breeding animals\n",
       "3  NaN    NaN  10129.0  Horses; live, other than pure-bred breeding an...\n",
       "4  NaN    NaN  10130.0                                        Asses; live"
      ]
     },
     "metadata": {},
     "output_type": "display_data"
    },
    {
     "name": "stdout",
     "output_type": "stream",
     "text": [
      "<class 'pandas.core.frame.DataFrame'>\n",
      "RangeIndex: 6939 entries, 0 to 6938\n",
      "Data columns (total 4 columns):\n",
      " #   Column       Non-Null Count  Dtype  \n",
      "---  ------       --------------  -----  \n",
      " 0   HS2          97 non-null     float64\n",
      " 1   HS4          1229 non-null   float64\n",
      " 2   HS6          5613 non-null   float64\n",
      " 3   description  6939 non-null   object \n",
      "dtypes: float64(3), object(1)\n",
      "memory usage: 217.0+ KB\n",
      "None\n",
      "\n",
      "flat_table\n"
     ]
    },
    {
     "data": {
      "text/html": [
       "<div>\n",
       "<style scoped>\n",
       "    .dataframe tbody tr th:only-of-type {\n",
       "        vertical-align: middle;\n",
       "    }\n",
       "\n",
       "    .dataframe tbody tr th {\n",
       "        vertical-align: top;\n",
       "    }\n",
       "\n",
       "    .dataframe thead th {\n",
       "        text-align: right;\n",
       "    }\n",
       "</style>\n",
       "<table border=\"1\" class=\"dataframe\">\n",
       "  <thead>\n",
       "    <tr style=\"text-align: right;\">\n",
       "      <th></th>\n",
       "      <th>Section</th>\n",
       "      <th>HS6</th>\n",
       "      <th>Description</th>\n",
       "    </tr>\n",
       "  </thead>\n",
       "  <tbody>\n",
       "    <tr>\n",
       "      <th>0</th>\n",
       "      <td>NaN</td>\n",
       "      <td>10121</td>\n",
       "      <td>Horses; live, pure-bred breeding animals</td>\n",
       "    </tr>\n",
       "    <tr>\n",
       "      <th>1</th>\n",
       "      <td>NaN</td>\n",
       "      <td>10129</td>\n",
       "      <td>Horses; live, other than pure-bred breeding an...</td>\n",
       "    </tr>\n",
       "    <tr>\n",
       "      <th>2</th>\n",
       "      <td>NaN</td>\n",
       "      <td>10130</td>\n",
       "      <td>Asses; live</td>\n",
       "    </tr>\n",
       "    <tr>\n",
       "      <th>3</th>\n",
       "      <td>NaN</td>\n",
       "      <td>10190</td>\n",
       "      <td>Mules and hinnies; live</td>\n",
       "    </tr>\n",
       "    <tr>\n",
       "      <th>4</th>\n",
       "      <td>NaN</td>\n",
       "      <td>10221</td>\n",
       "      <td>Cattle; live, pure-bred breeding animals</td>\n",
       "    </tr>\n",
       "  </tbody>\n",
       "</table>\n",
       "</div>"
      ],
      "text/plain": [
       "   Section    HS6                                        Description\n",
       "0      NaN  10121           Horses; live, pure-bred breeding animals\n",
       "1      NaN  10129  Horses; live, other than pure-bred breeding an...\n",
       "2      NaN  10130                                        Asses; live\n",
       "3      NaN  10190                            Mules and hinnies; live\n",
       "4      NaN  10221           Cattle; live, pure-bred breeding animals"
      ]
     },
     "metadata": {},
     "output_type": "display_data"
    },
    {
     "name": "stdout",
     "output_type": "stream",
     "text": [
      "<class 'pandas.core.frame.DataFrame'>\n",
      "RangeIndex: 5613 entries, 0 to 5612\n",
      "Data columns (total 3 columns):\n",
      " #   Column       Non-Null Count  Dtype  \n",
      "---  ------       --------------  -----  \n",
      " 0   Section      0 non-null      float64\n",
      " 1   HS6          5613 non-null   int64  \n",
      " 2   Description  5613 non-null   object \n",
      "dtypes: float64(1), int64(1), object(1)\n",
      "memory usage: 131.7+ KB\n",
      "None\n"
     ]
    }
   ],
   "source": [
    "import pandas as pd\n",
    "\n",
    "# Load datasets\n",
    "hs_tree = pd.read_csv('../data/Hs_Tree.csv')        # adjust filename\n",
    "flat_table = pd.read_csv('../data/Flat_Table.csv')  # adjust filename\n",
    "\n",
    "# Preview\n",
    "print(\"hs_tree\")\n",
    "display(hs_tree.head())\n",
    "print(hs_tree.info())\n",
    "\n",
    "print(\"\\nflat_table\")\n",
    "display(flat_table.head())\n",
    "print(flat_table.info())\n"
   ]
  },
  {
   "cell_type": "code",
   "execution_count": 4,
   "id": "50cec6f4",
   "metadata": {},
   "outputs": [
    {
     "data": {
      "text/plain": [
       "HS2            6842\n",
       "HS4            5710\n",
       "HS6            1326\n",
       "description       0\n",
       "dtype: int64"
      ]
     },
     "execution_count": 4,
     "metadata": {},
     "output_type": "execute_result"
    }
   ],
   "source": [
    "hs_tree.isnull().sum()"
   ]
  },
  {
   "cell_type": "code",
   "execution_count": null,
   "id": "f46a9da0",
   "metadata": {},
   "outputs": [
    {
     "data": {
      "text/plain": [
       "0"
      ]
     },
     "execution_count": 3,
     "metadata": {},
     "output_type": "execute_result"
    }
   ],
   "source": [
    "hs_tree.duplicated().sum()"
   ]
  },
  {
   "cell_type": "code",
   "execution_count": 5,
   "id": "0980c1f5",
   "metadata": {},
   "outputs": [
    {
     "data": {
      "text/plain": [
       "Section        5613\n",
       "HS6               0\n",
       "Description       0\n",
       "dtype: int64"
      ]
     },
     "execution_count": 5,
     "metadata": {},
     "output_type": "execute_result"
    }
   ],
   "source": [
    "flat_table.isnull().sum()"
   ]
  },
  {
   "cell_type": "code",
   "execution_count": 6,
   "id": "7cc94107",
   "metadata": {},
   "outputs": [
    {
     "data": {
      "text/plain": [
       "0"
      ]
     },
     "execution_count": 6,
     "metadata": {},
     "output_type": "execute_result"
    }
   ],
   "source": [
    "flat_table.duplicated().sum()"
   ]
  },
  {
   "cell_type": "code",
   "execution_count": 7,
   "id": "76b4fa4b",
   "metadata": {},
   "outputs": [
    {
     "name": "stdout",
     "output_type": "stream",
     "text": [
      "Unique hs6 codes in flat_table: 5613\n"
     ]
    }
   ],
   "source": [
    "unique_hs6_flat = flat_table['HS6'].nunique()\n",
    "print(f\"Unique hs6 codes in flat_table: {unique_hs6_flat}\")"
   ]
  },
  {
   "cell_type": "code",
   "execution_count": 8,
   "id": "d6687d3f",
   "metadata": {},
   "outputs": [
    {
     "name": "stdout",
     "output_type": "stream",
     "text": [
      "Unique hs6 codes in hs_tree: 5613\n"
     ]
    }
   ],
   "source": [
    "unique_hs6_tree = hs_tree['HS6'].nunique()\n",
    "print(f\"Unique hs6 codes in hs_tree: {unique_hs6_tree}\")"
   ]
  },
  {
   "cell_type": "code",
   "execution_count": 9,
   "id": "ade23601",
   "metadata": {},
   "outputs": [],
   "source": [
    "import plotly.express as px\n",
    "\n"
   ]
  },
  {
   "cell_type": "code",
   "execution_count": 10,
   "id": "d92839f6",
   "metadata": {},
   "outputs": [],
   "source": [
    "hs_tree_clean = hs_tree.dropna(subset=['HS2', 'HS4', 'HS6'])\n"
   ]
  },
  {
   "cell_type": "code",
   "execution_count": 11,
   "id": "3c27ed83",
   "metadata": {},
   "outputs": [],
   "source": [
    "hs_tree_clean['HS2'] = hs_tree_clean['HS2'].astype(str)\n",
    "hs_tree_clean['HS4'] = hs_tree_clean['HS4'].astype(str)\n",
    "hs_tree_clean['HS6'] = hs_tree_clean['HS6'].astype(str)"
   ]
  },
  {
   "cell_type": "code",
   "execution_count": 13,
   "id": "2488174a",
   "metadata": {},
   "outputs": [],
   "source": [
    "hs_tree_clean['count'] = 1\n"
   ]
  },
  {
   "cell_type": "code",
   "execution_count": 17,
   "id": "8cd0042a",
   "metadata": {},
   "outputs": [],
   "source": [
    "# Clean HS6\n",
    "hs_tree['HS6'] = hs_tree['HS6'].astype(str).str.strip().str.zfill(6)"
   ]
  },
  {
   "cell_type": "code",
   "execution_count": 18,
   "id": "adb1db45",
   "metadata": {},
   "outputs": [],
   "source": [
    "hs_tree['HS2'] = hs_tree['HS6'].str[:2]\n",
    "hs_tree['HS4'] = hs_tree['HS6'].str[:4]"
   ]
  },
  {
   "cell_type": "code",
   "execution_count": 20,
   "id": "a059b8d4",
   "metadata": {},
   "outputs": [
    {
     "data": {
      "text/html": [
       "<div>\n",
       "<style scoped>\n",
       "    .dataframe tbody tr th:only-of-type {\n",
       "        vertical-align: middle;\n",
       "    }\n",
       "\n",
       "    .dataframe tbody tr th {\n",
       "        vertical-align: top;\n",
       "    }\n",
       "\n",
       "    .dataframe thead th {\n",
       "        text-align: right;\n",
       "    }\n",
       "</style>\n",
       "<table border=\"1\" class=\"dataframe\">\n",
       "  <thead>\n",
       "    <tr style=\"text-align: right;\">\n",
       "      <th></th>\n",
       "      <th>HS2</th>\n",
       "      <th>HS4</th>\n",
       "      <th>HS6</th>\n",
       "      <th>description</th>\n",
       "    </tr>\n",
       "  </thead>\n",
       "  <tbody>\n",
       "    <tr>\n",
       "      <th>0</th>\n",
       "      <td>00</td>\n",
       "      <td>000n</td>\n",
       "      <td>000nan</td>\n",
       "      <td>Horses; live, pure-bred breeding animals</td>\n",
       "    </tr>\n",
       "    <tr>\n",
       "      <th>1</th>\n",
       "      <td>00</td>\n",
       "      <td>000n</td>\n",
       "      <td>000nan</td>\n",
       "      <td>Horses; live, pure-bred breeding animals</td>\n",
       "    </tr>\n",
       "    <tr>\n",
       "      <th>2</th>\n",
       "      <td>10</td>\n",
       "      <td>1012</td>\n",
       "      <td>10121.0</td>\n",
       "      <td>Horses; live, pure-bred breeding animals</td>\n",
       "    </tr>\n",
       "    <tr>\n",
       "      <th>3</th>\n",
       "      <td>10</td>\n",
       "      <td>1012</td>\n",
       "      <td>10129.0</td>\n",
       "      <td>Horses; live, other than pure-bred breeding an...</td>\n",
       "    </tr>\n",
       "    <tr>\n",
       "      <th>4</th>\n",
       "      <td>10</td>\n",
       "      <td>1013</td>\n",
       "      <td>10130.0</td>\n",
       "      <td>Asses; live</td>\n",
       "    </tr>\n",
       "    <tr>\n",
       "      <th>5</th>\n",
       "      <td>10</td>\n",
       "      <td>1019</td>\n",
       "      <td>10190.0</td>\n",
       "      <td>Mules and hinnies; live</td>\n",
       "    </tr>\n",
       "    <tr>\n",
       "      <th>6</th>\n",
       "      <td>00</td>\n",
       "      <td>000n</td>\n",
       "      <td>000nan</td>\n",
       "      <td>Cattle; live, pure-bred breeding animals</td>\n",
       "    </tr>\n",
       "    <tr>\n",
       "      <th>7</th>\n",
       "      <td>10</td>\n",
       "      <td>1022</td>\n",
       "      <td>10221.0</td>\n",
       "      <td>Cattle; live, pure-bred breeding animals</td>\n",
       "    </tr>\n",
       "    <tr>\n",
       "      <th>8</th>\n",
       "      <td>10</td>\n",
       "      <td>1022</td>\n",
       "      <td>10229.0</td>\n",
       "      <td>Cattle; live, other than pure-bred breeding an...</td>\n",
       "    </tr>\n",
       "    <tr>\n",
       "      <th>9</th>\n",
       "      <td>10</td>\n",
       "      <td>1023</td>\n",
       "      <td>10231.0</td>\n",
       "      <td>Buffalo; live, pure-bred breeding animals</td>\n",
       "    </tr>\n",
       "  </tbody>\n",
       "</table>\n",
       "</div>"
      ],
      "text/plain": [
       "  HS2   HS4      HS6                                        description\n",
       "0  00  000n   000nan           Horses; live, pure-bred breeding animals\n",
       "1  00  000n   000nan           Horses; live, pure-bred breeding animals\n",
       "2  10  1012  10121.0           Horses; live, pure-bred breeding animals\n",
       "3  10  1012  10129.0  Horses; live, other than pure-bred breeding an...\n",
       "4  10  1013  10130.0                                        Asses; live\n",
       "5  10  1019  10190.0                            Mules and hinnies; live\n",
       "6  00  000n   000nan           Cattle; live, pure-bred breeding animals\n",
       "7  10  1022  10221.0           Cattle; live, pure-bred breeding animals\n",
       "8  10  1022  10229.0  Cattle; live, other than pure-bred breeding an...\n",
       "9  10  1023  10231.0          Buffalo; live, pure-bred breeding animals"
      ]
     },
     "execution_count": 20,
     "metadata": {},
     "output_type": "execute_result"
    }
   ],
   "source": [
    "hs_tree[['HS2', 'HS4', 'HS6', 'description']].head(10)"
   ]
  },
  {
   "cell_type": "code",
   "execution_count": 25,
   "id": "e3be02de",
   "metadata": {},
   "outputs": [
    {
     "data": {
      "image/png": "[encoded data removed]",
      "text/plain": [
       "<Figure size 800x500 with 1 Axes>"
      ]
     },
     "metadata": {},
     "output_type": "display_data"
    }
   ],
   "source": [
    "import matplotlib.pyplot as plt\n",
    "\n",
    "hs_tree['HS2'].value_counts().head(10).plot(kind='bar', figsize=(8,5), color='orange')\n",
    "plt.title(\"Top HS2 Categories in Table\")\n",
    "plt.xlabel(\"HS2 Code\")\n",
    "plt.ylabel(\"Count\")\n",
    "plt.show()\n"
   ]
  }
 ],
 "metadata": {
  "kernelspec": {
   "display_name": "base",
   "language": "python",
   "name": "python3"
  },
  "language_info": {
   "codemirror_mode": {
    "name": "ipython",
    "version": 3
   },
   "file_extension": ".py",
   "mimetype": "text/x-python",
   "name": "python",
   "nbconvert_exporter": "python",
   "pygments_lexer": "ipython3",
   "version": "3.11.7"
  }
 },
 "nbformat": 4,
 "nbformat_minor": 5
}
